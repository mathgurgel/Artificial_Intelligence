{
  "nbformat": 4,
  "nbformat_minor": 0,
  "metadata": {
    "colab": {
      "provenance": [],
      "authorship_tag": "ABX9TyPg0yMay1qNICX3n5ZfIPj+",
      "include_colab_link": true
    },
    "kernelspec": {
      "name": "python3",
      "display_name": "Python 3"
    },
    "language_info": {
      "name": "python"
    }
  },
  "cells": [
    {
      "cell_type": "markdown",
      "metadata": {
        "id": "view-in-github",
        "colab_type": "text"
      },
      "source": [
        "<a href=\"https://colab.research.google.com/github/mathgurgel/Artificial_Intelligence/blob/main/neural-networks/perceptron-algorithm.ipynb\" target=\"_parent\"><img src=\"https://colab.research.google.com/assets/colab-badge.svg\" alt=\"Open In Colab\"/></a>"
      ]
    },
    {
      "cell_type": "markdown",
      "source": [
        "# Perceptron Algorithm"
      ],
      "metadata": {
        "id": "zlJ9AZJOL4Cg"
      }
    },
    {
      "cell_type": "code",
      "execution_count": null,
      "metadata": {
        "colab": {
          "base_uri": "https://localhost:8080/"
        },
        "id": "F4VtMqLcmm2V",
        "outputId": "03d3c136-7285-4dc0-8429-dd423febeb9b"
      },
      "outputs": [
        {
          "output_type": "stream",
          "name": "stdout",
          "text": [
            "# Cycle 1\n",
            "\n",
            "It 1\n",
            "f[2.02] = 1\n",
            "====================================\n",
            "It 2\n",
            "f[3.44] = 1\n",
            "====================================\n",
            "It 3\n",
            "f[1.01] = 1\n",
            "\n",
            "1 != 0\n",
            "\n",
            "New weights:\n",
            "w[0] = 0.1 + 0.05 * [0 - 1] * 1\n",
            "w[1] = 0.81 + 0.05 * [0 - 1] * 1\n",
            "w[2] = 0.1 + 0.05 * [0 - 1] * 1\n",
            "w = [0.05, 0.76, 0.05]\n",
            "====================================\n",
            "It 4\n",
            "f[0.81] = 1\n",
            "\n",
            "1 != 0\n",
            "\n",
            "New weights:\n",
            "w[0] = 0.05 + 0.05 * [0 - 1] * 1\n",
            "w[1] = 0.76 + 0.05 * [0 - 1] * 1\n",
            "w[2] = 0.05 + 0.05 * [0 - 1] * 0\n",
            "w = [0.0, 0.71, 0.05]\n",
            "====================================\n",
            "\n",
            "\n",
            "\n",
            "# Cycle 2\n",
            "\n",
            "It 1\n",
            "f[1.57] = 1\n",
            "====================================\n",
            "It 2\n",
            "f[2.89] = 1\n",
            "====================================\n",
            "It 3\n",
            "f[0.76] = 1\n",
            "\n",
            "1 != 0\n",
            "\n",
            "New weights:\n",
            "w[0] = 0.0 + 0.05 * [0 - 1] * 1\n",
            "w[1] = 0.71 + 0.05 * [0 - 1] * 1\n",
            "w[2] = 0.05 + 0.05 * [0 - 1] * 1\n",
            "w = [-0.05, 0.6599999999999999, 0.0]\n",
            "====================================\n",
            "It 4\n",
            "f[0.61] = 1\n",
            "\n",
            "1 != 0\n",
            "\n",
            "New weights:\n",
            "w[0] = -0.05 + 0.05 * [0 - 1] * 1\n",
            "w[1] = 0.6599999999999999 + 0.05 * [0 - 1] * 1\n",
            "w[2] = 0.0 + 0.05 * [0 - 1] * 0\n",
            "w = [-0.1, 0.6099999999999999, 0.0]\n",
            "====================================\n",
            "\n",
            "\n",
            "\n"
          ]
        }
      ],
      "source": [
        "def calc_weight(w, n, y, yh, x, i):\n",
        "\n",
        "  print(f\"w[{i}] = {w} + {n} * [{y} - {yh}] * {x}\")\n",
        "  return w + n * (y - yh) * x\n",
        "\n",
        "\n",
        "m = 81\n",
        "ws = [0.1, m/100, 0.1]\n",
        "n = 0.05\n",
        "\n",
        "e1 = [1, 2, 3]\n",
        "e2 = [1, 4, 1]\n",
        "e3 = [1, 1, 1]\n",
        "e4 = [1, 1, 0]\n",
        "es = [e1, e2, e3, e4]\n",
        "\n",
        "y  = [1, 1, 0, 0]\n",
        "\n",
        "num_cycles = 2\n",
        "\n",
        "for k in range(num_cycles):\n",
        "\n",
        "  print(f\"# Cycle {k + 1}\\n\")\n",
        "\n",
        "  for i, e in enumerate(es):\n",
        "    print(f\"It {i + 1}\")\n",
        "\n",
        "    x = sum([w * x for w, x in zip(ws, e)])\n",
        "    fx = 1 if x > 0 else 0\n",
        "    print(f\"f[{x:.2f}] = {fx}\")\n",
        "\n",
        "    if fx != y[i]:\n",
        "      print(f'\\n{fx} != {y[i]}\\n')\n",
        "      print(\"New weights:\")\n",
        "      for j, w in enumerate(ws):\n",
        "        ws[j] = calc_weight(w, n, y[i], fx, e[j], j)\n",
        "      print(f\"w = {ws}\")\n",
        "      \n",
        "    print(\"====================================\")\n",
        "  \n",
        "  print(\"\\n\\n\")"
      ]
    }
  ]
}